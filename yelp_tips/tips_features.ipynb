{
 "cells": [
  {
   "cell_type": "code",
   "execution_count": 1,
   "metadata": {},
   "outputs": [
    {
     "name": "stdout",
     "output_type": "stream",
     "text": [
      "[nltk_data] Downloading package vader_lexicon to\n",
      "[nltk_data]     C:\\Users\\deept\\AppData\\Roaming\\nltk_data...\n",
      "[nltk_data]   Package vader_lexicon is already up-to-date!\n"
     ]
    },
    {
     "name": "stderr",
     "output_type": "stream",
     "text": [
      "C:\\Users\\deept\\Anaconda3\\lib\\site-packages\\nltk\\twitter\\__init__.py:20: UserWarning: The twython library has not been installed. Some functionality from the twitter package will not be available.\n",
      "  warnings.warn(\"The twython library has not been installed. \"\n"
     ]
    }
   ],
   "source": [
    "import nltk\n",
    "import itertools\n",
    "import operator\n",
    "import pandas as pd\n",
    "import numpy as np\n",
    "nltk.download('vader_lexicon')\n",
    "from nltk.sentiment.vader import SentimentIntensityAnalyzer\n",
    "tips = pd.read_csv('D://yelp__tip.csv', low_memory=False)"
   ]
  },
  {
   "cell_type": "code",
   "execution_count": 4,
   "metadata": {},
   "outputs": [],
   "source": [
    "tips_df = tips[['business_id','text']]"
   ]
  },
  {
   "cell_type": "code",
   "execution_count": null,
   "metadata": {},
   "outputs": [],
   "source": [
    "df = tips_df.groupby('business_id')['text'].nunique()\n",
    "print(df)"
   ]
  },
  {
   "cell_type": "markdown",
   "metadata": {},
   "source": [
    "__Sentiment Analysis of the tips text using Vader: Classify the tips text as Pos or Neg__"
   ]
  },
  {
   "cell_type": "code",
   "execution_count": 24,
   "metadata": {},
   "outputs": [
    {
     "name": "stdout",
     "output_type": "stream",
     "text": [
      "0 10000 10000\n",
      "10000 20000 20000\n",
      "20000 30000 30000\n",
      "30000 40000 40000\n",
      "40000 50000 50000\n",
      "50000 60000 60000\n",
      "60000 70000 70000\n",
      "70000 80000 80000\n",
      "80000 90000 90000\n",
      "90000 100000 100000\n",
      "100000 110000 110000\n",
      "110000 120000 120000\n"
     ]
    }
   ],
   "source": [
    "count = 0\n",
    "upper_limit = 0\n",
    "lower_limit = 0\n",
    "sent = {}\n",
    "sentiment_analyzer = SentimentIntensityAnalyzer()\n",
    "while count!=120000:\n",
    "    lower_limit=upper_limit\n",
    "    upper_limit+=10000\n",
    "    x = itertools.islice(dict_.items(), lower_limit,upper_limit)\n",
    "    for key,val in x:\n",
    "        count += 1\n",
    "        classify = []\n",
    "#         if key not in sent:\n",
    "#             sent[key] = []\n",
    "        try:\n",
    "            for val_item in val:\n",
    "                sentiment = sentiment_analyzer.polarity_scores(val_item)\n",
    "                sentiment.pop('compound')\n",
    "                sentiment.pop('neu')\n",
    "                classify.append(max(sentiment.items(), key=operator.itemgetter(1))[0])\n",
    "            sent[key] = classify\n",
    "        except:\n",
    "            continue\n",
    "    print(lower_limit, upper_limit, count)"
   ]
  },
  {
   "cell_type": "code",
   "execution_count": 25,
   "metadata": {},
   "outputs": [],
   "source": [
    "x = itertools.islice(dict_.items(),120001,121526)\n",
    "for key,val in x:\n",
    "    count += 1\n",
    "    classify = []\n",
    "#         if key not in sent:\n",
    "#             sent[key] = []\n",
    "    try:\n",
    "        for val_item in val:\n",
    "            sentiment = sentiment_analyzer.polarity_scores(val_item)\n",
    "            sentiment.pop('compound')\n",
    "            sentiment.pop('neu')\n",
    "            classify.append(max(sentiment.items(), key=operator.itemgetter(1))[0])\n",
    "        sent[key] = classify\n",
    "    except:\n",
    "        continue"
   ]
  },
  {
   "cell_type": "markdown",
   "metadata": {},
   "source": [
    "__Find the number of positive and negative counts for each business__"
   ]
  },
  {
   "cell_type": "code",
   "execution_count": 30,
   "metadata": {},
   "outputs": [],
   "source": [
    "from collections import Counter\n",
    "for k,v in sent.items():\n",
    "        sent[k] = Counter(v)"
   ]
  },
  {
   "cell_type": "code",
   "execution_count": 34,
   "metadata": {},
   "outputs": [],
   "source": [
    "for k,v in sent.items():\n",
    "    if 'pos' not in v:\n",
    "        sent[k]['pos'] = 0\n",
    "    if 'neg' not in v:\n",
    "        sent[k]['neg'] = 0\n",
    "data = {}\n",
    "for k,v in sent.items():\n",
    "    if k not in data:\n",
    "        data[k] = []\n",
    "    data[k].append(v['pos'])\n",
    "    data[k].append(v['neg'])"
   ]
  },
  {
   "cell_type": "code",
   "execution_count": 37,
   "metadata": {},
   "outputs": [],
   "source": [
    "import csv\n",
    "file_str = 'business_id,pos_count,neg_count\\n'\n",
    "with open('tip_output.csv','w', newline='') as file:\n",
    "    file.write(file_str)\n",
    "    writer = csv.writer(file)\n",
    "    for k,v in data.items():\n",
    "        writer.writerow([k,v[0],v[1]])"
   ]
  },
  {
   "cell_type": "code",
   "execution_count": 53,
   "metadata": {},
   "outputs": [],
   "source": [
    "op = pd.read_csv('tip_output.csv')\n",
    "df = pd.merge(op, tips_df, on='business_id')"
   ]
  },
  {
   "cell_type": "code",
   "execution_count": 54,
   "metadata": {},
   "outputs": [
    {
     "data": {
      "text/html": [
       "<div>\n",
       "<style scoped>\n",
       "    .dataframe tbody tr th:only-of-type {\n",
       "        vertical-align: middle;\n",
       "    }\n",
       "\n",
       "    .dataframe tbody tr th {\n",
       "        vertical-align: top;\n",
       "    }\n",
       "\n",
       "    .dataframe thead th {\n",
       "        text-align: right;\n",
       "    }\n",
       "</style>\n",
       "<table border=\"1\" class=\"dataframe\">\n",
       "  <thead>\n",
       "    <tr style=\"text-align: right;\">\n",
       "      <th></th>\n",
       "      <th>business_id</th>\n",
       "      <th>pos_count</th>\n",
       "      <th>neg_count</th>\n",
       "    </tr>\n",
       "  </thead>\n",
       "  <tbody>\n",
       "    <tr>\n",
       "      <th>121516</th>\n",
       "      <td>zztHqd_3ULxuIS8lkhYdwg</td>\n",
       "      <td>1</td>\n",
       "      <td>1</td>\n",
       "    </tr>\n",
       "    <tr>\n",
       "      <th>121517</th>\n",
       "      <td>zzwaS0xn1MVEPEf0hNLjew</td>\n",
       "      <td>8</td>\n",
       "      <td>11</td>\n",
       "    </tr>\n",
       "    <tr>\n",
       "      <th>121518</th>\n",
       "      <td>zzwhN7x37nyjP0ZM8oiHmw</td>\n",
       "      <td>3</td>\n",
       "      <td>0</td>\n",
       "    </tr>\n",
       "    <tr>\n",
       "      <th>121519</th>\n",
       "      <td>zzwicjPC9g246MK2M1ZFBA</td>\n",
       "      <td>9</td>\n",
       "      <td>4</td>\n",
       "    </tr>\n",
       "    <tr>\n",
       "      <th>121520</th>\n",
       "      <td>zzzaIBwimxVej4tY6qFOUQ</td>\n",
       "      <td>15</td>\n",
       "      <td>7</td>\n",
       "    </tr>\n",
       "  </tbody>\n",
       "</table>\n",
       "</div>"
      ],
      "text/plain": [
       "                   business_id  pos_count  neg_count\n",
       "121516  zztHqd_3ULxuIS8lkhYdwg          1          1\n",
       "121517  zzwaS0xn1MVEPEf0hNLjew          8         11\n",
       "121518  zzwhN7x37nyjP0ZM8oiHmw          3          0\n",
       "121519  zzwicjPC9g246MK2M1ZFBA          9          4\n",
       "121520  zzzaIBwimxVej4tY6qFOUQ         15          7"
      ]
     },
     "execution_count": 54,
     "metadata": {},
     "output_type": "execute_result"
    }
   ],
   "source": [
    "op.tail()"
   ]
  },
  {
   "cell_type": "code",
   "execution_count": 55,
   "metadata": {},
   "outputs": [
    {
     "data": {
      "text/html": [
       "<div>\n",
       "<style scoped>\n",
       "    .dataframe tbody tr th:only-of-type {\n",
       "        vertical-align: middle;\n",
       "    }\n",
       "\n",
       "    .dataframe tbody tr th {\n",
       "        vertical-align: top;\n",
       "    }\n",
       "\n",
       "    .dataframe thead th {\n",
       "        text-align: right;\n",
       "    }\n",
       "</style>\n",
       "<table border=\"1\" class=\"dataframe\">\n",
       "  <thead>\n",
       "    <tr style=\"text-align: right;\">\n",
       "      <th></th>\n",
       "      <th>business_id</th>\n",
       "      <th>pos_count</th>\n",
       "      <th>neg_count</th>\n",
       "      <th>text</th>\n",
       "    </tr>\n",
       "  </thead>\n",
       "  <tbody>\n",
       "    <tr>\n",
       "      <th>1185253</th>\n",
       "      <td>zzzaIBwimxVej4tY6qFOUQ</td>\n",
       "      <td>15</td>\n",
       "      <td>7</td>\n",
       "      <td>Love this place food is great</td>\n",
       "    </tr>\n",
       "    <tr>\n",
       "      <th>1185254</th>\n",
       "      <td>zzzaIBwimxVej4tY6qFOUQ</td>\n",
       "      <td>15</td>\n",
       "      <td>7</td>\n",
       "      <td>Good fingers ad cheaper than other places, hot...</td>\n",
       "    </tr>\n",
       "    <tr>\n",
       "      <th>1185255</th>\n",
       "      <td>zzzaIBwimxVej4tY6qFOUQ</td>\n",
       "      <td>15</td>\n",
       "      <td>7</td>\n",
       "      <td>Wanted to try it for lunch but was closed for ...</td>\n",
       "    </tr>\n",
       "    <tr>\n",
       "      <th>1185256</th>\n",
       "      <td>zzzaIBwimxVej4tY6qFOUQ</td>\n",
       "      <td>15</td>\n",
       "      <td>7</td>\n",
       "      <td>Really liked the chicken and tea.   Customer s...</td>\n",
       "    </tr>\n",
       "    <tr>\n",
       "      <th>1185257</th>\n",
       "      <td>zzzaIBwimxVej4tY6qFOUQ</td>\n",
       "      <td>15</td>\n",
       "      <td>7</td>\n",
       "      <td>When will you reopen??  We have tried going fo...</td>\n",
       "    </tr>\n",
       "  </tbody>\n",
       "</table>\n",
       "</div>"
      ],
      "text/plain": [
       "                    business_id  pos_count  neg_count  \\\n",
       "1185253  zzzaIBwimxVej4tY6qFOUQ         15          7   \n",
       "1185254  zzzaIBwimxVej4tY6qFOUQ         15          7   \n",
       "1185255  zzzaIBwimxVej4tY6qFOUQ         15          7   \n",
       "1185256  zzzaIBwimxVej4tY6qFOUQ         15          7   \n",
       "1185257  zzzaIBwimxVej4tY6qFOUQ         15          7   \n",
       "\n",
       "                                                      text  \n",
       "1185253                      Love this place food is great  \n",
       "1185254  Good fingers ad cheaper than other places, hot...  \n",
       "1185255  Wanted to try it for lunch but was closed for ...  \n",
       "1185256  Really liked the chicken and tea.   Customer s...  \n",
       "1185257  When will you reopen??  We have tried going fo...  "
      ]
     },
     "execution_count": 55,
     "metadata": {},
     "output_type": "execute_result"
    }
   ],
   "source": [
    "df.tail()"
   ]
  },
  {
   "cell_type": "markdown",
   "metadata": {},
   "source": [
    "__Pre Process the text to remove punctuations other than ? and !, lower case and perform stemming for the text field__"
   ]
  },
  {
   "cell_type": "code",
   "execution_count": 56,
   "metadata": {},
   "outputs": [
    {
     "name": "stdout",
     "output_type": "stream",
     "text": [
      "[nltk_data] Downloading package stopwords to\n",
      "[nltk_data]     C:\\Users\\deept\\AppData\\Roaming\\nltk_data...\n",
      "[nltk_data]   Package stopwords is already up-to-date!\n",
      "100000\n",
      "200000\n",
      "300000\n",
      "400000\n",
      "500000\n",
      "600000\n",
      "700000\n",
      "800000\n",
      "900000\n",
      "1000000\n",
      "1100000\n"
     ]
    }
   ],
   "source": [
    "import string\n",
    "import nltk\n",
    "import re\n",
    "import pandas as pd\n",
    "from nltk.corpus import stopwords\n",
    "nltk.download('stopwords')\n",
    "def load_stopwords():\n",
    "    return set(stopwords.words(\"english\"))\n",
    "main_count = 0\n",
    "def pre_process(text):\n",
    "    global main_count\n",
    "    main_count+=1\n",
    "    count = 0\n",
    "    porter = nltk.stem.PorterStemmer()\n",
    "    text = text.lower() if len(text)>0 else text\n",
    "    remove = string.punctuation\n",
    "    remove = remove.replace(\"?\", \"\") # don't remove ?\n",
    "    remove = remove.replace(\"!\",\"\") # don't remove !\n",
    "    pattern = r\"[{}]\".format(remove)\n",
    "    text = re.sub(pattern, \" \", text)\n",
    "    words = text.split()\n",
    "    stops = load_stopwords()\n",
    "    meaningful_words = [porter.stem(w) for w in words if not w in stops]\n",
    "    if main_count%100000 == 0:\n",
    "        print(main_count)\n",
    "    return \" \".join(meaningful_words)\n",
    "\n",
    "df['text'] = df['text'].apply(lambda x: pre_process(x))"
   ]
  },
  {
   "cell_type": "code",
   "execution_count": 57,
   "metadata": {},
   "outputs": [
    {
     "data": {
      "text/html": [
       "<div>\n",
       "<style scoped>\n",
       "    .dataframe tbody tr th:only-of-type {\n",
       "        vertical-align: middle;\n",
       "    }\n",
       "\n",
       "    .dataframe tbody tr th {\n",
       "        vertical-align: top;\n",
       "    }\n",
       "\n",
       "    .dataframe thead th {\n",
       "        text-align: right;\n",
       "    }\n",
       "</style>\n",
       "<table border=\"1\" class=\"dataframe\">\n",
       "  <thead>\n",
       "    <tr style=\"text-align: right;\">\n",
       "      <th></th>\n",
       "      <th>business_id</th>\n",
       "      <th>pos_count</th>\n",
       "      <th>neg_count</th>\n",
       "      <th>text</th>\n",
       "    </tr>\n",
       "  </thead>\n",
       "  <tbody>\n",
       "    <tr>\n",
       "      <th>1185253</th>\n",
       "      <td>zzzaIBwimxVej4tY6qFOUQ</td>\n",
       "      <td>15</td>\n",
       "      <td>7</td>\n",
       "      <td>love place food great</td>\n",
       "    </tr>\n",
       "    <tr>\n",
       "      <th>1185254</th>\n",
       "      <td>zzzaIBwimxVej4tY6qFOUQ</td>\n",
       "      <td>15</td>\n",
       "      <td>7</td>\n",
       "      <td>good finger ad cheaper place hot sauc good too!</td>\n",
       "    </tr>\n",
       "    <tr>\n",
       "      <th>1185255</th>\n",
       "      <td>zzzaIBwimxVej4tY6qFOUQ</td>\n",
       "      <td>15</td>\n",
       "      <td>7</td>\n",
       "      <td>want tri lunch close remodel juli 17 2014</td>\n",
       "    </tr>\n",
       "    <tr>\n",
       "      <th>1185256</th>\n",
       "      <td>zzzaIBwimxVej4tY6qFOUQ</td>\n",
       "      <td>15</td>\n",
       "      <td>7</td>\n",
       "      <td>realli like chicken tea custom servic awesom</td>\n",
       "    </tr>\n",
       "    <tr>\n",
       "      <th>1185257</th>\n",
       "      <td>zzzaIBwimxVej4tY6qFOUQ</td>\n",
       "      <td>15</td>\n",
       "      <td>7</td>\n",
       "      <td>reopen?? tri go almost two month say remodel</td>\n",
       "    </tr>\n",
       "  </tbody>\n",
       "</table>\n",
       "</div>"
      ],
      "text/plain": [
       "                    business_id  pos_count  neg_count  \\\n",
       "1185253  zzzaIBwimxVej4tY6qFOUQ         15          7   \n",
       "1185254  zzzaIBwimxVej4tY6qFOUQ         15          7   \n",
       "1185255  zzzaIBwimxVej4tY6qFOUQ         15          7   \n",
       "1185256  zzzaIBwimxVej4tY6qFOUQ         15          7   \n",
       "1185257  zzzaIBwimxVej4tY6qFOUQ         15          7   \n",
       "\n",
       "                                                    text  \n",
       "1185253                            love place food great  \n",
       "1185254  good finger ad cheaper place hot sauc good too!  \n",
       "1185255        want tri lunch close remodel juli 17 2014  \n",
       "1185256     realli like chicken tea custom servic awesom  \n",
       "1185257     reopen?? tri go almost two month say remodel  "
      ]
     },
     "execution_count": 57,
     "metadata": {},
     "output_type": "execute_result"
    }
   ],
   "source": [
    "df.tail()"
   ]
  },
  {
   "cell_type": "markdown",
   "metadata": {},
   "source": [
    "Find the count of ? and ! used in the text"
   ]
  },
  {
   "cell_type": "code",
   "execution_count": 58,
   "metadata": {},
   "outputs": [],
   "source": [
    "df['count_punctuation'] = df.text.str.count('\\?|\\!')"
   ]
  },
  {
   "cell_type": "markdown",
   "metadata": {},
   "source": [
    "__Find the length of each text__"
   ]
  },
  {
   "cell_type": "code",
   "execution_count": 59,
   "metadata": {},
   "outputs": [],
   "source": [
    "def find_length(text):\n",
    "    try:\n",
    "        val = len(text)\n",
    "    except:\n",
    "        val =0\n",
    "    return val\n",
    "df['text_length'] = df['text'].apply(lambda x: find_length(x))"
   ]
  },
  {
   "cell_type": "code",
   "execution_count": 60,
   "metadata": {},
   "outputs": [
    {
     "data": {
      "text/html": [
       "<div>\n",
       "<style scoped>\n",
       "    .dataframe tbody tr th:only-of-type {\n",
       "        vertical-align: middle;\n",
       "    }\n",
       "\n",
       "    .dataframe tbody tr th {\n",
       "        vertical-align: top;\n",
       "    }\n",
       "\n",
       "    .dataframe thead th {\n",
       "        text-align: right;\n",
       "    }\n",
       "</style>\n",
       "<table border=\"1\" class=\"dataframe\">\n",
       "  <thead>\n",
       "    <tr style=\"text-align: right;\">\n",
       "      <th></th>\n",
       "      <th>business_id</th>\n",
       "      <th>pos_count</th>\n",
       "      <th>neg_count</th>\n",
       "      <th>text</th>\n",
       "      <th>count_punctuation</th>\n",
       "      <th>text_length</th>\n",
       "    </tr>\n",
       "  </thead>\n",
       "  <tbody>\n",
       "    <tr>\n",
       "      <th>1185253</th>\n",
       "      <td>zzzaIBwimxVej4tY6qFOUQ</td>\n",
       "      <td>15</td>\n",
       "      <td>7</td>\n",
       "      <td>love place food great</td>\n",
       "      <td>0</td>\n",
       "      <td>21</td>\n",
       "    </tr>\n",
       "    <tr>\n",
       "      <th>1185254</th>\n",
       "      <td>zzzaIBwimxVej4tY6qFOUQ</td>\n",
       "      <td>15</td>\n",
       "      <td>7</td>\n",
       "      <td>good finger ad cheaper place hot sauc good too!</td>\n",
       "      <td>1</td>\n",
       "      <td>47</td>\n",
       "    </tr>\n",
       "    <tr>\n",
       "      <th>1185255</th>\n",
       "      <td>zzzaIBwimxVej4tY6qFOUQ</td>\n",
       "      <td>15</td>\n",
       "      <td>7</td>\n",
       "      <td>want tri lunch close remodel juli 17 2014</td>\n",
       "      <td>0</td>\n",
       "      <td>41</td>\n",
       "    </tr>\n",
       "    <tr>\n",
       "      <th>1185256</th>\n",
       "      <td>zzzaIBwimxVej4tY6qFOUQ</td>\n",
       "      <td>15</td>\n",
       "      <td>7</td>\n",
       "      <td>realli like chicken tea custom servic awesom</td>\n",
       "      <td>0</td>\n",
       "      <td>44</td>\n",
       "    </tr>\n",
       "    <tr>\n",
       "      <th>1185257</th>\n",
       "      <td>zzzaIBwimxVej4tY6qFOUQ</td>\n",
       "      <td>15</td>\n",
       "      <td>7</td>\n",
       "      <td>reopen?? tri go almost two month say remodel</td>\n",
       "      <td>2</td>\n",
       "      <td>44</td>\n",
       "    </tr>\n",
       "  </tbody>\n",
       "</table>\n",
       "</div>"
      ],
      "text/plain": [
       "                    business_id  pos_count  neg_count  \\\n",
       "1185253  zzzaIBwimxVej4tY6qFOUQ         15          7   \n",
       "1185254  zzzaIBwimxVej4tY6qFOUQ         15          7   \n",
       "1185255  zzzaIBwimxVej4tY6qFOUQ         15          7   \n",
       "1185256  zzzaIBwimxVej4tY6qFOUQ         15          7   \n",
       "1185257  zzzaIBwimxVej4tY6qFOUQ         15          7   \n",
       "\n",
       "                                                    text  count_punctuation  \\\n",
       "1185253                            love place food great                  0   \n",
       "1185254  good finger ad cheaper place hot sauc good too!                  1   \n",
       "1185255        want tri lunch close remodel juli 17 2014                  0   \n",
       "1185256     realli like chicken tea custom servic awesom                  0   \n",
       "1185257     reopen?? tri go almost two month say remodel                  2   \n",
       "\n",
       "         text_length  \n",
       "1185253           21  \n",
       "1185254           47  \n",
       "1185255           41  \n",
       "1185256           44  \n",
       "1185257           44  "
      ]
     },
     "execution_count": 60,
     "metadata": {},
     "output_type": "execute_result"
    }
   ],
   "source": [
    "df.tail()"
   ]
  },
  {
   "cell_type": "markdown",
   "metadata": {},
   "source": [
    "__Group by business ID and find the average length of the tips and average count of the occurrence of ? and !__"
   ]
  },
  {
   "cell_type": "code",
   "execution_count": 61,
   "metadata": {},
   "outputs": [],
   "source": [
    "df_1 = df.groupby('business_id').agg({'text_length': 'mean', 'count_punctuation': 'mean'}).reset_index()"
   ]
  },
  {
   "cell_type": "code",
   "execution_count": 62,
   "metadata": {},
   "outputs": [
    {
     "data": {
      "text/html": [
       "<div>\n",
       "<style scoped>\n",
       "    .dataframe tbody tr th:only-of-type {\n",
       "        vertical-align: middle;\n",
       "    }\n",
       "\n",
       "    .dataframe tbody tr th {\n",
       "        vertical-align: top;\n",
       "    }\n",
       "\n",
       "    .dataframe thead th {\n",
       "        text-align: right;\n",
       "    }\n",
       "</style>\n",
       "<table border=\"1\" class=\"dataframe\">\n",
       "  <thead>\n",
       "    <tr style=\"text-align: right;\">\n",
       "      <th></th>\n",
       "      <th>business_id</th>\n",
       "      <th>text_length</th>\n",
       "      <th>count_punctuation</th>\n",
       "    </tr>\n",
       "  </thead>\n",
       "  <tbody>\n",
       "    <tr>\n",
       "      <th>121516</th>\n",
       "      <td>zztHqd_3ULxuIS8lkhYdwg</td>\n",
       "      <td>83.500000</td>\n",
       "      <td>0.000000</td>\n",
       "    </tr>\n",
       "    <tr>\n",
       "      <th>121517</th>\n",
       "      <td>zzwaS0xn1MVEPEf0hNLjew</td>\n",
       "      <td>37.421053</td>\n",
       "      <td>1.052632</td>\n",
       "    </tr>\n",
       "    <tr>\n",
       "      <th>121518</th>\n",
       "      <td>zzwhN7x37nyjP0ZM8oiHmw</td>\n",
       "      <td>91.333333</td>\n",
       "      <td>3.666667</td>\n",
       "    </tr>\n",
       "    <tr>\n",
       "      <th>121519</th>\n",
       "      <td>zzwicjPC9g246MK2M1ZFBA</td>\n",
       "      <td>55.230769</td>\n",
       "      <td>0.384615</td>\n",
       "    </tr>\n",
       "    <tr>\n",
       "      <th>121520</th>\n",
       "      <td>zzzaIBwimxVej4tY6qFOUQ</td>\n",
       "      <td>43.454545</td>\n",
       "      <td>1.090909</td>\n",
       "    </tr>\n",
       "  </tbody>\n",
       "</table>\n",
       "</div>"
      ],
      "text/plain": [
       "                   business_id  text_length  count_punctuation\n",
       "121516  zztHqd_3ULxuIS8lkhYdwg    83.500000           0.000000\n",
       "121517  zzwaS0xn1MVEPEf0hNLjew    37.421053           1.052632\n",
       "121518  zzwhN7x37nyjP0ZM8oiHmw    91.333333           3.666667\n",
       "121519  zzwicjPC9g246MK2M1ZFBA    55.230769           0.384615\n",
       "121520  zzzaIBwimxVej4tY6qFOUQ    43.454545           1.090909"
      ]
     },
     "execution_count": 62,
     "metadata": {},
     "output_type": "execute_result"
    }
   ],
   "source": [
    "df_1.tail()"
   ]
  },
  {
   "cell_type": "code",
   "execution_count": 66,
   "metadata": {},
   "outputs": [],
   "source": [
    "out = pd.merge(op, df_1, on='business_id')"
   ]
  },
  {
   "cell_type": "code",
   "execution_count": 67,
   "metadata": {},
   "outputs": [
    {
     "data": {
      "text/html": [
       "<div>\n",
       "<style scoped>\n",
       "    .dataframe tbody tr th:only-of-type {\n",
       "        vertical-align: middle;\n",
       "    }\n",
       "\n",
       "    .dataframe tbody tr th {\n",
       "        vertical-align: top;\n",
       "    }\n",
       "\n",
       "    .dataframe thead th {\n",
       "        text-align: right;\n",
       "    }\n",
       "</style>\n",
       "<table border=\"1\" class=\"dataframe\">\n",
       "  <thead>\n",
       "    <tr style=\"text-align: right;\">\n",
       "      <th></th>\n",
       "      <th>business_id</th>\n",
       "      <th>pos_count</th>\n",
       "      <th>neg_count</th>\n",
       "      <th>text_length</th>\n",
       "      <th>count_punctuation</th>\n",
       "    </tr>\n",
       "  </thead>\n",
       "  <tbody>\n",
       "    <tr>\n",
       "      <th>121516</th>\n",
       "      <td>zztHqd_3ULxuIS8lkhYdwg</td>\n",
       "      <td>1</td>\n",
       "      <td>1</td>\n",
       "      <td>83.500000</td>\n",
       "      <td>0.000000</td>\n",
       "    </tr>\n",
       "    <tr>\n",
       "      <th>121517</th>\n",
       "      <td>zzwaS0xn1MVEPEf0hNLjew</td>\n",
       "      <td>8</td>\n",
       "      <td>11</td>\n",
       "      <td>37.421053</td>\n",
       "      <td>1.052632</td>\n",
       "    </tr>\n",
       "    <tr>\n",
       "      <th>121518</th>\n",
       "      <td>zzwhN7x37nyjP0ZM8oiHmw</td>\n",
       "      <td>3</td>\n",
       "      <td>0</td>\n",
       "      <td>91.333333</td>\n",
       "      <td>3.666667</td>\n",
       "    </tr>\n",
       "    <tr>\n",
       "      <th>121519</th>\n",
       "      <td>zzwicjPC9g246MK2M1ZFBA</td>\n",
       "      <td>9</td>\n",
       "      <td>4</td>\n",
       "      <td>55.230769</td>\n",
       "      <td>0.384615</td>\n",
       "    </tr>\n",
       "    <tr>\n",
       "      <th>121520</th>\n",
       "      <td>zzzaIBwimxVej4tY6qFOUQ</td>\n",
       "      <td>15</td>\n",
       "      <td>7</td>\n",
       "      <td>43.454545</td>\n",
       "      <td>1.090909</td>\n",
       "    </tr>\n",
       "  </tbody>\n",
       "</table>\n",
       "</div>"
      ],
      "text/plain": [
       "                   business_id  pos_count  neg_count  text_length  \\\n",
       "121516  zztHqd_3ULxuIS8lkhYdwg          1          1    83.500000   \n",
       "121517  zzwaS0xn1MVEPEf0hNLjew          8         11    37.421053   \n",
       "121518  zzwhN7x37nyjP0ZM8oiHmw          3          0    91.333333   \n",
       "121519  zzwicjPC9g246MK2M1ZFBA          9          4    55.230769   \n",
       "121520  zzzaIBwimxVej4tY6qFOUQ         15          7    43.454545   \n",
       "\n",
       "        count_punctuation  \n",
       "121516           0.000000  \n",
       "121517           1.052632  \n",
       "121518           3.666667  \n",
       "121519           0.384615  \n",
       "121520           1.090909  "
      ]
     },
     "execution_count": 67,
     "metadata": {},
     "output_type": "execute_result"
    }
   ],
   "source": [
    "out.tail()"
   ]
  },
  {
   "cell_type": "code",
   "execution_count": null,
   "metadata": {},
   "outputs": [],
   "source": []
  }
 ],
 "metadata": {
  "kernelspec": {
   "display_name": "Python 3",
   "language": "python",
   "name": "python3"
  },
  "language_info": {
   "codemirror_mode": {
    "name": "ipython",
    "version": 3
   },
   "file_extension": ".py",
   "mimetype": "text/x-python",
   "name": "python",
   "nbconvert_exporter": "python",
   "pygments_lexer": "ipython3",
   "version": "3.6.4"
  }
 },
 "nbformat": 4,
 "nbformat_minor": 2
}
