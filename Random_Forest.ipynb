{
 "cells": [
  {
   "cell_type": "code",
   "execution_count": 1,
   "metadata": {},
   "outputs": [],
   "source": [
    "import pandas as pd\n",
    "import csv"
   ]
  },
  {
   "cell_type": "code",
   "execution_count": 2,
   "metadata": {},
   "outputs": [],
   "source": [
    "features = pd.read_csv('yelp__business_factoranalysis.csv')"
   ]
  },
  {
   "cell_type": "code",
   "execution_count": 3,
   "metadata": {},
   "outputs": [
    {
     "data": {
      "text/html": [
       "<div>\n",
       "<style scoped>\n",
       "    .dataframe tbody tr th:only-of-type {\n",
       "        vertical-align: middle;\n",
       "    }\n",
       "\n",
       "    .dataframe tbody tr th {\n",
       "        vertical-align: top;\n",
       "    }\n",
       "\n",
       "    .dataframe thead th {\n",
       "        text-align: right;\n",
       "    }\n",
       "</style>\n",
       "<table border=\"1\" class=\"dataframe\">\n",
       "  <thead>\n",
       "    <tr style=\"text-align: right;\">\n",
       "      <th></th>\n",
       "      <th>Unnamed: 0</th>\n",
       "      <th>location</th>\n",
       "      <th>working_hours</th>\n",
       "      <th>parking</th>\n",
       "      <th>business_infra_features</th>\n",
       "      <th>business_extra_features</th>\n",
       "      <th>business_payments</th>\n",
       "      <th>accessibility</th>\n",
       "      <th>stars</th>\n",
       "      <th>review_count</th>\n",
       "    </tr>\n",
       "  </thead>\n",
       "  <tbody>\n",
       "    <tr>\n",
       "      <th>0</th>\n",
       "      <td>0</td>\n",
       "      <td>-0.921154</td>\n",
       "      <td>-0.578886</td>\n",
       "      <td>0.234413</td>\n",
       "      <td>0.577172</td>\n",
       "      <td>0.211994</td>\n",
       "      <td>0.272516</td>\n",
       "      <td>-0.254496</td>\n",
       "      <td>4.0</td>\n",
       "      <td>24</td>\n",
       "    </tr>\n",
       "    <tr>\n",
       "      <th>1</th>\n",
       "      <td>1</td>\n",
       "      <td>-0.983662</td>\n",
       "      <td>1.356515</td>\n",
       "      <td>0.234413</td>\n",
       "      <td>0.814986</td>\n",
       "      <td>-0.036538</td>\n",
       "      <td>0.272516</td>\n",
       "      <td>3.020099</td>\n",
       "      <td>4.5</td>\n",
       "      <td>3</td>\n",
       "    </tr>\n",
       "    <tr>\n",
       "      <th>2</th>\n",
       "      <td>2</td>\n",
       "      <td>1.349533</td>\n",
       "      <td>-0.588871</td>\n",
       "      <td>-0.082422</td>\n",
       "      <td>1.514018</td>\n",
       "      <td>0.724658</td>\n",
       "      <td>-0.682368</td>\n",
       "      <td>-0.254496</td>\n",
       "      <td>4.0</td>\n",
       "      <td>5</td>\n",
       "    </tr>\n",
       "    <tr>\n",
       "      <th>3</th>\n",
       "      <td>3</td>\n",
       "      <td>-0.824482</td>\n",
       "      <td>1.756269</td>\n",
       "      <td>-0.617359</td>\n",
       "      <td>-0.400277</td>\n",
       "      <td>-0.450020</td>\n",
       "      <td>-0.682368</td>\n",
       "      <td>-0.254496</td>\n",
       "      <td>1.5</td>\n",
       "      <td>8</td>\n",
       "    </tr>\n",
       "    <tr>\n",
       "      <th>4</th>\n",
       "      <td>4</td>\n",
       "      <td>-0.920953</td>\n",
       "      <td>-0.544352</td>\n",
       "      <td>-0.617359</td>\n",
       "      <td>-0.400277</td>\n",
       "      <td>-0.450020</td>\n",
       "      <td>0.272516</td>\n",
       "      <td>-0.254496</td>\n",
       "      <td>2.0</td>\n",
       "      <td>4</td>\n",
       "    </tr>\n",
       "  </tbody>\n",
       "</table>\n",
       "</div>"
      ],
      "text/plain": [
       "   Unnamed: 0  location  working_hours   parking  business_infra_features  \\\n",
       "0           0 -0.921154      -0.578886  0.234413                 0.577172   \n",
       "1           1 -0.983662       1.356515  0.234413                 0.814986   \n",
       "2           2  1.349533      -0.588871 -0.082422                 1.514018   \n",
       "3           3 -0.824482       1.756269 -0.617359                -0.400277   \n",
       "4           4 -0.920953      -0.544352 -0.617359                -0.400277   \n",
       "\n",
       "   business_extra_features  business_payments  accessibility  stars  \\\n",
       "0                 0.211994           0.272516      -0.254496    4.0   \n",
       "1                -0.036538           0.272516       3.020099    4.5   \n",
       "2                 0.724658          -0.682368      -0.254496    4.0   \n",
       "3                -0.450020          -0.682368      -0.254496    1.5   \n",
       "4                -0.450020           0.272516      -0.254496    2.0   \n",
       "\n",
       "   review_count  \n",
       "0            24  \n",
       "1             3  \n",
       "2             5  \n",
       "3             8  \n",
       "4             4  "
      ]
     },
     "execution_count": 3,
     "metadata": {},
     "output_type": "execute_result"
    }
   ],
   "source": [
    "features.head(5)"
   ]
  },
  {
   "cell_type": "code",
   "execution_count": 4,
   "metadata": {},
   "outputs": [
    {
     "data": {
      "text/plain": [
       "(188593, 10)"
      ]
     },
     "execution_count": 4,
     "metadata": {},
     "output_type": "execute_result"
    }
   ],
   "source": [
    "features.shape"
   ]
  },
  {
   "cell_type": "code",
   "execution_count": 5,
   "metadata": {},
   "outputs": [
    {
     "data": {
      "text/html": [
       "<div>\n",
       "<style scoped>\n",
       "    .dataframe tbody tr th:only-of-type {\n",
       "        vertical-align: middle;\n",
       "    }\n",
       "\n",
       "    .dataframe tbody tr th {\n",
       "        vertical-align: top;\n",
       "    }\n",
       "\n",
       "    .dataframe thead th {\n",
       "        text-align: right;\n",
       "    }\n",
       "</style>\n",
       "<table border=\"1\" class=\"dataframe\">\n",
       "  <thead>\n",
       "    <tr style=\"text-align: right;\">\n",
       "      <th></th>\n",
       "      <th>Unnamed: 0</th>\n",
       "      <th>location</th>\n",
       "      <th>working_hours</th>\n",
       "      <th>parking</th>\n",
       "      <th>business_infra_features</th>\n",
       "      <th>business_extra_features</th>\n",
       "      <th>business_payments</th>\n",
       "      <th>accessibility</th>\n",
       "      <th>stars</th>\n",
       "      <th>review_count</th>\n",
       "    </tr>\n",
       "  </thead>\n",
       "  <tbody>\n",
       "    <tr>\n",
       "      <th>count</th>\n",
       "      <td>188593.000000</td>\n",
       "      <td>1.885930e+05</td>\n",
       "      <td>1.885930e+05</td>\n",
       "      <td>1.885930e+05</td>\n",
       "      <td>1.885930e+05</td>\n",
       "      <td>1.885930e+05</td>\n",
       "      <td>1.885930e+05</td>\n",
       "      <td>1.885930e+05</td>\n",
       "      <td>188593.000000</td>\n",
       "      <td>188593.000000</td>\n",
       "    </tr>\n",
       "    <tr>\n",
       "      <th>mean</th>\n",
       "      <td>94296.000000</td>\n",
       "      <td>7.737382e-16</td>\n",
       "      <td>-2.517159e-15</td>\n",
       "      <td>9.767323e-16</td>\n",
       "      <td>4.979997e-16</td>\n",
       "      <td>1.423106e-15</td>\n",
       "      <td>-2.544835e-15</td>\n",
       "      <td>-1.978282e-15</td>\n",
       "      <td>3.631550</td>\n",
       "      <td>31.797310</td>\n",
       "    </tr>\n",
       "    <tr>\n",
       "      <th>std</th>\n",
       "      <td>54442.253996</td>\n",
       "      <td>9.976502e-01</td>\n",
       "      <td>9.960464e-01</td>\n",
       "      <td>8.277961e-01</td>\n",
       "      <td>8.119393e-01</td>\n",
       "      <td>9.116505e-01</td>\n",
       "      <td>4.453631e-01</td>\n",
       "      <td>5.853347e-01</td>\n",
       "      <td>1.016783</td>\n",
       "      <td>104.124212</td>\n",
       "    </tr>\n",
       "    <tr>\n",
       "      <th>min</th>\n",
       "      <td>0.000000</td>\n",
       "      <td>-4.607159e+00</td>\n",
       "      <td>-5.958037e-01</td>\n",
       "      <td>-6.173590e-01</td>\n",
       "      <td>-4.002773e-01</td>\n",
       "      <td>-4.500196e-01</td>\n",
       "      <td>-6.823676e-01</td>\n",
       "      <td>-4.158530e-01</td>\n",
       "      <td>1.000000</td>\n",
       "      <td>3.000000</td>\n",
       "    </tr>\n",
       "    <tr>\n",
       "      <th>25%</th>\n",
       "      <td>47148.000000</td>\n",
       "      <td>-8.357669e-01</td>\n",
       "      <td>-5.918134e-01</td>\n",
       "      <td>-6.173590e-01</td>\n",
       "      <td>-4.002773e-01</td>\n",
       "      <td>-4.500196e-01</td>\n",
       "      <td>-6.823676e-01</td>\n",
       "      <td>-2.544963e-01</td>\n",
       "      <td>3.000000</td>\n",
       "      <td>4.000000</td>\n",
       "    </tr>\n",
       "    <tr>\n",
       "      <th>50%</th>\n",
       "      <td>94296.000000</td>\n",
       "      <td>-8.076582e-01</td>\n",
       "      <td>-5.788859e-01</td>\n",
       "      <td>-6.173590e-01</td>\n",
       "      <td>-4.002773e-01</td>\n",
       "      <td>-4.500196e-01</td>\n",
       "      <td>2.725159e-01</td>\n",
       "      <td>-2.544963e-01</td>\n",
       "      <td>3.500000</td>\n",
       "      <td>9.000000</td>\n",
       "    </tr>\n",
       "    <tr>\n",
       "      <th>75%</th>\n",
       "      <td>141444.000000</td>\n",
       "      <td>9.865018e-01</td>\n",
       "      <td>6.832776e-02</td>\n",
       "      <td>7.693499e-01</td>\n",
       "      <td>-4.002773e-01</td>\n",
       "      <td>-2.037574e-01</td>\n",
       "      <td>2.725159e-01</td>\n",
       "      <td>-2.544963e-01</td>\n",
       "      <td>4.500000</td>\n",
       "      <td>24.000000</td>\n",
       "    </tr>\n",
       "    <tr>\n",
       "      <th>max</th>\n",
       "      <td>188592.000000</td>\n",
       "      <td>1.195852e+01</td>\n",
       "      <td>1.759212e+00</td>\n",
       "      <td>2.047007e+00</td>\n",
       "      <td>3.666128e+00</td>\n",
       "      <td>5.804246e+00</td>\n",
       "      <td>1.432587e+00</td>\n",
       "      <td>3.651186e+00</td>\n",
       "      <td>5.000000</td>\n",
       "      <td>7968.000000</td>\n",
       "    </tr>\n",
       "  </tbody>\n",
       "</table>\n",
       "</div>"
      ],
      "text/plain": [
       "          Unnamed: 0      location  working_hours       parking  \\\n",
       "count  188593.000000  1.885930e+05   1.885930e+05  1.885930e+05   \n",
       "mean    94296.000000  7.737382e-16  -2.517159e-15  9.767323e-16   \n",
       "std     54442.253996  9.976502e-01   9.960464e-01  8.277961e-01   \n",
       "min         0.000000 -4.607159e+00  -5.958037e-01 -6.173590e-01   \n",
       "25%     47148.000000 -8.357669e-01  -5.918134e-01 -6.173590e-01   \n",
       "50%     94296.000000 -8.076582e-01  -5.788859e-01 -6.173590e-01   \n",
       "75%    141444.000000  9.865018e-01   6.832776e-02  7.693499e-01   \n",
       "max    188592.000000  1.195852e+01   1.759212e+00  2.047007e+00   \n",
       "\n",
       "       business_infra_features  business_extra_features  business_payments  \\\n",
       "count             1.885930e+05             1.885930e+05       1.885930e+05   \n",
       "mean              4.979997e-16             1.423106e-15      -2.544835e-15   \n",
       "std               8.119393e-01             9.116505e-01       4.453631e-01   \n",
       "min              -4.002773e-01            -4.500196e-01      -6.823676e-01   \n",
       "25%              -4.002773e-01            -4.500196e-01      -6.823676e-01   \n",
       "50%              -4.002773e-01            -4.500196e-01       2.725159e-01   \n",
       "75%              -4.002773e-01            -2.037574e-01       2.725159e-01   \n",
       "max               3.666128e+00             5.804246e+00       1.432587e+00   \n",
       "\n",
       "       accessibility          stars   review_count  \n",
       "count   1.885930e+05  188593.000000  188593.000000  \n",
       "mean   -1.978282e-15       3.631550      31.797310  \n",
       "std     5.853347e-01       1.016783     104.124212  \n",
       "min    -4.158530e-01       1.000000       3.000000  \n",
       "25%    -2.544963e-01       3.000000       4.000000  \n",
       "50%    -2.544963e-01       3.500000       9.000000  \n",
       "75%    -2.544963e-01       4.500000      24.000000  \n",
       "max     3.651186e+00       5.000000    7968.000000  "
      ]
     },
     "execution_count": 5,
     "metadata": {},
     "output_type": "execute_result"
    }
   ],
   "source": [
    "features.describe()"
   ]
  },
  {
   "cell_type": "code",
   "execution_count": 6,
   "metadata": {},
   "outputs": [],
   "source": [
    "from sklearn.model_selection import train_test_split"
   ]
  },
  {
   "cell_type": "code",
   "execution_count": 7,
   "metadata": {},
   "outputs": [],
   "source": [
    "values = {'location':7.737382e-16, 'working_hours':-2.517159e-15, 'parking':9.767323e-16,'business_infra_features':4.979997e-16,'business_extra_features':1.423106e-15,'business_payments':-2.544835e-15, 'accessibility':-1.978282e-15,'stars':3.631550, 'review_count':31.797310}"
   ]
  },
  {
   "cell_type": "code",
   "execution_count": 8,
   "metadata": {},
   "outputs": [],
   "source": [
    "import numpy as np\n",
    "# labels = np.array([features['location'],features['working_hours'], features['parking'], features['business_infra_features'], features['business_extra_features'], features['business_payments'], features['accessibility']])\n",
    "features.fillna(values)\n",
    "labels = np.array(features['stars'])\n",
    "features= features.drop('stars', axis = 1)\n",
    "feature_list=list(features.columns)\n",
    "features=np.array(features)"
   ]
  },
  {
   "cell_type": "code",
   "execution_count": 15,
   "metadata": {},
   "outputs": [],
   "source": [
    "train_features, test_features, train_labels, test_labels = train_test_split(features, labels, test_size = 0.25,\n",
    "                                                                           random_state = 42)"
   ]
  },
  {
   "cell_type": "code",
   "execution_count": 16,
   "metadata": {},
   "outputs": [
    {
     "data": {
      "text/plain": [
       "(141444, 9)"
      ]
     },
     "execution_count": 16,
     "metadata": {},
     "output_type": "execute_result"
    }
   ],
   "source": [
    "train_features.shape"
   ]
  },
  {
   "cell_type": "code",
   "execution_count": 17,
   "metadata": {},
   "outputs": [
    {
     "data": {
      "text/plain": [
       "(47149, 9)"
      ]
     },
     "execution_count": 17,
     "metadata": {},
     "output_type": "execute_result"
    }
   ],
   "source": [
    "test_features.shape"
   ]
  },
  {
   "cell_type": "code",
   "execution_count": 18,
   "metadata": {},
   "outputs": [
    {
     "data": {
      "text/plain": [
       "(141444,)"
      ]
     },
     "execution_count": 18,
     "metadata": {},
     "output_type": "execute_result"
    }
   ],
   "source": [
    "train_labels.shape"
   ]
  },
  {
   "cell_type": "code",
   "execution_count": 19,
   "metadata": {},
   "outputs": [
    {
     "data": {
      "text/plain": [
       "(47149,)"
      ]
     },
     "execution_count": 19,
     "metadata": {},
     "output_type": "execute_result"
    }
   ],
   "source": [
    "test_labels.shape"
   ]
  },
  {
   "cell_type": "code",
   "execution_count": 20,
   "metadata": {},
   "outputs": [
    {
     "data": {
      "text/plain": [
       "RandomForestRegressor(bootstrap=True, criterion='mse', max_depth=None,\n",
       "           max_features='auto', max_leaf_nodes=None,\n",
       "           min_impurity_decrease=0.0, min_impurity_split=None,\n",
       "           min_samples_leaf=1, min_samples_split=2,\n",
       "           min_weight_fraction_leaf=0.0, n_estimators=1000, n_jobs=1,\n",
       "           oob_score=False, random_state=42, verbose=0, warm_start=False)"
      ]
     },
     "execution_count": 20,
     "metadata": {},
     "output_type": "execute_result"
    }
   ],
   "source": [
    "from sklearn.ensemble import RandomForestRegressor\n",
    "rf = RandomForestRegressor(n_estimators=1000, random_state=42)\n",
    "rf.fit(train_features, train_labels)"
   ]
  },
  {
   "cell_type": "code",
   "execution_count": 22,
   "metadata": {},
   "outputs": [
    {
     "name": "stdout",
     "output_type": "stream",
     "text": [
      "MAE 0.76  degrees\n"
     ]
    }
   ],
   "source": [
    "predictions = rf.predict(test_features)\n",
    "errors = abs(predictions - test_labels)\n",
    "print(\"MAE\", round(np.mean(errors),2), ' degrees')"
   ]
  },
  {
   "cell_type": "code",
   "execution_count": 23,
   "metadata": {},
   "outputs": [
    {
     "name": "stdout",
     "output_type": "stream",
     "text": [
      "Accuracy 72.34 %\n"
     ]
    }
   ],
   "source": [
    "mape = 100*(errors/test_labels)\n",
    "accuracy = 100 - np.mean(mape)\n",
    "print(\"Accuracy\", round(accuracy,2), '%')"
   ]
  },
  {
   "cell_type": "code",
   "execution_count": null,
   "metadata": {},
   "outputs": [],
   "source": []
  }
 ],
 "metadata": {
  "kernelspec": {
   "display_name": "Python 3",
   "language": "python",
   "name": "python3"
  },
  "language_info": {
   "codemirror_mode": {
    "name": "ipython",
    "version": 3
   },
   "file_extension": ".py",
   "mimetype": "text/x-python",
   "name": "python",
   "nbconvert_exporter": "python",
   "pygments_lexer": "ipython3",
   "version": "3.6.4"
  }
 },
 "nbformat": 4,
 "nbformat_minor": 2
}
